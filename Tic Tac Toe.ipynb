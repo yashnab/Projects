{
 "cells": [
  {
   "cell_type": "code",
   "execution_count": 1,
   "metadata": {},
   "outputs": [],
   "source": [
    "def display_board(board):\n",
    "    print(board[7]+\"|\"+board[8]+\"|\"+board[9])\n",
    "    print(\"-|-|-\")\n",
    "    print(board[4]+\"|\"+board[5]+\"|\"+board[6])\n",
    "    print(\"-|-|-\")\n",
    "    print(board[1]+\"|\"+board[2]+\"|\"+board[3])\n",
    "    print(\"-|-|-\")"
   ]
  },
  {
   "cell_type": "code",
   "execution_count": 2,
   "metadata": {},
   "outputs": [
    {
     "name": "stdout",
     "output_type": "stream",
     "text": [
      " | | \n",
      "-|-|-\n",
      " | | \n",
      "-|-|-\n",
      " | | \n",
      "-|-|-\n"
     ]
    }
   ],
   "source": [
    "testing_board=[\" \"]*10\n",
    "display_board(testing_board)"
   ]
  },
  {
   "cell_type": "code",
   "execution_count": 3,
   "metadata": {},
   "outputs": [],
   "source": [
    "def player_input():\n",
    "    marker=\" \"\n",
    "    while marker !=\"x\" or marker !=\"o\":\n",
    "        marker= input(\"player 1 choose x,o: \")\n",
    "\n",
    "        if marker==\"o\":\n",
    "            return (\"o\",\"x\")\n",
    "        else:\n",
    "            return (\"x\",\"o\")"
   ]
  },
  {
   "cell_type": "code",
   "execution_count": 4,
   "metadata": {},
   "outputs": [
    {
     "name": "stdout",
     "output_type": "stream",
     "text": [
      "player 1 choose x,o: x\n"
     ]
    },
    {
     "data": {
      "text/plain": [
       "('x', 'o')"
      ]
     },
     "execution_count": 4,
     "metadata": {},
     "output_type": "execute_result"
    }
   ],
   "source": [
    "player_input()"
   ]
  },
  {
   "cell_type": "code",
   "execution_count": 5,
   "metadata": {},
   "outputs": [],
   "source": [
    "import random\n",
    "\n",
    "def first_move():\n",
    "    if random.randint(0,1)==0:\n",
    "        return \"player 2\"\n",
    "    else:\n",
    "        return \"player 1\""
   ]
  },
  {
   "cell_type": "code",
   "execution_count": 6,
   "metadata": {},
   "outputs": [],
   "source": [
    "def handle_turn(board,marker,position):\n",
    "    board[position]=marker"
   ]
  },
  {
   "cell_type": "code",
   "execution_count": 7,
   "metadata": {},
   "outputs": [
    {
     "name": "stdout",
     "output_type": "stream",
     "text": [
      " | | \n",
      "-|-|-\n",
      " |x| \n",
      "-|-|-\n",
      " | | \n",
      "-|-|-\n"
     ]
    }
   ],
   "source": [
    "handle_turn(testing_board,\"x\",5)\n",
    "display_board(testing_board)"
   ]
  },
  {
   "cell_type": "code",
   "execution_count": 8,
   "metadata": {},
   "outputs": [],
   "source": [
    "def check_win(board, mark):\n",
    "    return ((board[7]==mark and board[8]==mark and board[9]==mark)or\n",
    "    (board[4]==mark and board[5]==mark and board[6]==mark)or\n",
    "    (board[1]==mark and board[2]==mark and board[3]==mark)or\n",
    "    (board[7]==mark and board[4]==mark and board[1]==mark)or\n",
    "    (board[8]==mark and board[5]==mark and board[2]==mark)or\n",
    "    (board[9]==mark and board[6]==mark and board[3]==mark)or\n",
    "    (board[7]==mark and board[5]==mark and board[3]==mark)or\n",
    "    (board[9]==mark and board[5]==mark and board[1]==mark))"
   ]
  },
  {
   "cell_type": "code",
   "execution_count": 9,
   "metadata": {},
   "outputs": [
    {
     "data": {
      "text/plain": [
       "False"
      ]
     },
     "execution_count": 9,
     "metadata": {},
     "output_type": "execute_result"
    }
   ],
   "source": [
    "check_win(testing_board,\"x\")"
   ]
  },
  {
   "cell_type": "code",
   "execution_count": 10,
   "metadata": {},
   "outputs": [],
   "source": [
    "def space_free(board,position):\n",
    "    return board[position]==\" \""
   ]
  },
  {
   "cell_type": "code",
   "execution_count": 11,
   "metadata": {},
   "outputs": [],
   "source": [
    "def fullboardcheck(board):\n",
    "    for i in range(1,10):\n",
    "        if space_free(board, i):\n",
    "            return False\n",
    "    return True"
   ]
  },
  {
   "cell_type": "code",
   "execution_count": 12,
   "metadata": {},
   "outputs": [],
   "source": [
    "def player_choice(board):\n",
    "    position = 0\n",
    "    \n",
    "    while position not in [1,2,3,4,5,6,7,8,9] or not space_free(board, position):\n",
    "        position = int(input('Choose your next position: (1-9) '))\n",
    "    return position"
   ]
  },
  {
   "cell_type": "code",
   "execution_count": 13,
   "metadata": {},
   "outputs": [],
   "source": [
    "def replay():\n",
    "    return input('Do you want to play again? Enter Yes or No: ')"
   ]
  },
  {
   "cell_type": "code",
   "execution_count": null,
   "metadata": {},
   "outputs": [
    {
     "name": "stdout",
     "output_type": "stream",
     "text": [
      "player 1 choose x,o: o\n",
      "player 1 will go first\n",
      "Are you ready to play? Enter Yes or No.Yes\n",
      " | | \n",
      "-|-|-\n",
      " | | \n",
      "-|-|-\n",
      " | | \n",
      "-|-|-\n",
      "player 1\n",
      "Choose your next position: (1-9) 1\n",
      " | | \n",
      "-|-|-\n",
      " | | \n",
      "-|-|-\n",
      "o| | \n",
      "-|-|-\n",
      "player 2\n",
      "Choose your next position: (1-9) 2\n",
      " | | \n",
      "-|-|-\n",
      " | | \n",
      "-|-|-\n",
      "o|x| \n",
      "-|-|-\n",
      "player 1\n",
      "Choose your next position: (1-9) 4\n",
      " | | \n",
      "-|-|-\n",
      "o| | \n",
      "-|-|-\n",
      "o|x| \n",
      "-|-|-\n",
      "player 2\n",
      "Choose your next position: (1-9) 5\n",
      " | | \n",
      "-|-|-\n",
      "o|x| \n",
      "-|-|-\n",
      "o|x| \n",
      "-|-|-\n",
      "player 1\n",
      "Choose your next position: (1-9) 7\n",
      "o| | \n",
      "-|-|-\n",
      "o|x| \n",
      "-|-|-\n",
      "o|x| \n",
      "-|-|-\n",
      "Congratulations! player 1 has won the game!\n"
     ]
    }
   ],
   "source": [
    "while True:\n",
    "    theBoard = [' '] * 10\n",
    "    player1_marker, player2_marker = player_input()\n",
    "    turn = first_move()\n",
    "    print (turn + \" will go first\")\n",
    "    \n",
    "   #game play \n",
    "    play_game = input('Are you ready to play? Enter Yes or No.')\n",
    "\n",
    "    if play_game == \"Yes\":\n",
    "        game_is_on = True\n",
    "    else:\n",
    "        game_is_on = False\n",
    "\n",
    "    while game_is_on:\n",
    "        \n",
    "        if turn==\"player 1\":\n",
    "            display_board(theBoard)\n",
    "            print (\"player 1\")\n",
    "            position=player_choice(theBoard)\n",
    "            handle_turn(theBoard,player1_marker,position)\n",
    "           \n",
    "            if check_win(theBoard,player1_marker):\n",
    "                display_board(theBoard)\n",
    "                print('Congratulations! player 1 has won the game!')\n",
    "                game_is_on=False\n",
    "            else:\n",
    "                if fullboardcheck(theBoard):\n",
    "                    display_board(theBoard)\n",
    "                    print('The game is a draw!')\n",
    "                    break\n",
    "                else:\n",
    "                    turn = 'player 2'\n",
    "\n",
    "        else:\n",
    "            display_board(theBoard)\n",
    "            print (\"player 2\")\n",
    "            position = player_choice(theBoard)\n",
    "            handle_turn(theBoard, player2_marker, position)\n",
    "\n",
    "            if check_win(theBoard, player2_marker):\n",
    "                display_board(theBoard)\n",
    "                print('Player 2 has won the game!')\n",
    "                game_is_on=False\n",
    "\n",
    "            else:\n",
    "                if fullboardcheck(theBoard):\n",
    "                    display_board(theBoard)\n",
    "                    print('The game is a draw!')\n",
    "                    break\n",
    "                else:\n",
    "                    turn = 'player 1'\n",
    "                    \n",
    "    if not replay():\n",
    "        break"
   ]
  },
  {
   "cell_type": "code",
   "execution_count": null,
   "metadata": {},
   "outputs": [],
   "source": []
  }
 ],
 "metadata": {
  "kernelspec": {
   "display_name": "Python 3",
   "language": "python",
   "name": "python3"
  },
  "language_info": {
   "codemirror_mode": {
    "name": "ipython",
    "version": 3
   },
   "file_extension": ".py",
   "mimetype": "text/x-python",
   "name": "python",
   "nbconvert_exporter": "python",
   "pygments_lexer": "ipython3",
   "version": "3.7.6"
  }
 },
 "nbformat": 4,
 "nbformat_minor": 4
}
